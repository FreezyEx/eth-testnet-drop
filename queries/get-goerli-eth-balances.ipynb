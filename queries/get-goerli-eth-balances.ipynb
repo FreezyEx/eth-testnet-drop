{
 "cells": [
  {
   "cell_type": "code",
   "execution_count": null,
   "id": "harmful-joint",
   "metadata": {},
   "outputs": [],
   "source": [
    "import os\n",
    "import pandas as pd\n",
    "import numpy as np\n",
    "import httpx\n",
    "import json\n",
    "import time"
   ]
  },
  {
   "cell_type": "code",
   "execution_count": null,
   "id": "dressed-metabolism",
   "metadata": {},
   "outputs": [],
   "source": [
    "etherscan_api_key = 'YOUR_ETHERSCAN_API_KEY'"
   ]
  },
  {
   "cell_type": "code",
   "execution_count": null,
   "id": "satisfied-making",
   "metadata": {},
   "outputs": [],
   "source": [
    "# Get full list of qualifying addresses\n",
    "sepolia_contract_deployers_all = pd.read_csv('sepolia_unique_contract_deployers_all.csv')\n",
    "goerli_contract_deployers_all = pd.read_csv('goerli_unique_contract_deployers_all.csv')\n",
    "mainnet_contract_deployers_all = pd.read_csv('mainnet_unique_contract_deployers_all.csv')\n",
    "contract_deployers_all = sepolia_contract_deployers_all.append(goerli_contract_deployers_all).append(mainnet_contract_deployers_all)\n",
    "unique_contract_deployers_all = contract_deployers_all['contract_deployers'].unique()\n",
    "\n",
    "# Export to CSV\n",
    "unique_contract_deployers_all_df = pd.DataFrame(unique_contract_deployers_all, columns=['contract_deployers'])\n",
    "unique_contract_deployers_all_df.to_csv('combined_unique_contract_deployers_all.csv', index=False)"
   ]
  },
  {
   "cell_type": "code",
   "execution_count": null,
   "id": "solved-clearance",
   "metadata": {},
   "outputs": [],
   "source": [
    "addresses_query = pd.read_csv('combined_unique_contract_deployers_all.csv')\n",
    "address_list = addresses_query['contract_deployers'].to_numpy()\n",
    "num_addresses = len(address_list)"
   ]
  },
  {
   "cell_type": "code",
   "execution_count": null,
   "id": "sunset-involvement",
   "metadata": {
    "scrolled": true
   },
   "outputs": [],
   "source": [
    "balances_df = pd.DataFrame(columns=(\"account\",\"balance\"))\n",
    "\n",
    "# Balance snapshot taken on November 15, 2022\n",
    "for x in range(0, num_addresses+20, 20):\n",
    "    time.sleep(0.1)\n",
    "    print(\"Extracting Addresses: \"+str(x)+\" to \"+str(x+19), end='\\r')\n",
    "    twenty_addresses = []\n",
    "    for address in address_list[x:x+20]:\n",
    "        try:\n",
    "            twenty_addresses.append(address)\n",
    "        except:\n",
    "            pass\n",
    "    comma_separated_addresses = \",\".join(twenty_addresses)\n",
    "    url = \"https://api-goerli.etherscan.io/api?module=account&action=balancemulti&address=\"+comma_separated_addresses+\"&tag=latest&apikey=\"+etherscan_api_key\n",
    "    try:\n",
    "        r = httpx.get(url)\n",
    "        j = r.json()\n",
    "        df = pd.DataFrame.from_dict(list(j[\"result\"]))\n",
    "        balances_df = balances_df.append(df, ignore_index=True)\n",
    "    except:\n",
    "        time.sleep(15)\n",
    "        r = httpx.get(url)\n",
    "        j = r.json()\n",
    "        df = pd.DataFrame.from_dict(list(j[\"result\"]))\n",
    "        balances_df = balances_df.append(df, ignore_index=True)\n",
    "\n",
    "display(balances_df)\n",
    "\n",
    "# Export to CSV\n",
    "balances_df.to_csv('./goerli_balances.csv', index=False)"
   ]
  }
 ],
 "metadata": {
  "kernelspec": {
   "display_name": "Python 3",
   "language": "python",
   "name": "python3"
  },
  "language_info": {
   "codemirror_mode": {
    "name": "ipython",
    "version": 3
   },
   "file_extension": ".py",
   "mimetype": "text/x-python",
   "name": "python",
   "nbconvert_exporter": "python",
   "pygments_lexer": "ipython3",
   "version": "3.9.13"
  }
 },
 "nbformat": 4,
 "nbformat_minor": 5
}
