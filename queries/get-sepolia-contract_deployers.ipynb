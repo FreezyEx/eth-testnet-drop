{
 "cells": [
  {
   "cell_type": "code",
   "execution_count": null,
   "id": "italic-finding",
   "metadata": {},
   "outputs": [],
   "source": [
    "import ethereumetl\n",
    "import pandas as pd\n",
    "import numpy as np\n",
    "import os"
   ]
  },
  {
   "cell_type": "code",
   "execution_count": null,
   "id": "personal-mouth",
   "metadata": {},
   "outputs": [],
   "source": [
    "# Set Sepolia RPC\n",
    "provider_uri = 'YOUR_SEPOLIA_RPC_ENDPOINT'"
   ]
  },
  {
   "cell_type": "code",
   "execution_count": null,
   "id": "proud-horror",
   "metadata": {},
   "outputs": [],
   "source": [
    "# Last block of each calendar year\n",
    "last_block_2021 = 345734\n",
    "last_block_2022 = 2297135 # Through Nov 15, 2022"
   ]
  },
  {
   "cell_type": "code",
   "execution_count": null,
   "id": "entire-array",
   "metadata": {
    "scrolled": true
   },
   "outputs": [],
   "source": [
    "# 2021 contract deployers\n",
    "start_block = 1\n",
    "end_block = start_block + 99999\n",
    "\n",
    "contract_deployers = []\n",
    "\n",
    "while (end_block <= last_block_2021+100000): # Buffer based on chunk size\n",
    "    end_block_used = min(end_block,last_block_2021)\n",
    "    print(\"Fetching blocks \"+str(start_block)+ \" to \"+str(end_block_used)+\".\")\n",
    "    ! ethereumetl export_blocks_and_transactions --start-block $start_block --end-block $end_block_used \\\n",
    "    --provider-uri $provider_uri \\\n",
    "    --transactions-output transactions.csv\n",
    "\n",
    "    transactions = pd.read_csv('transactions.csv')\n",
    "      \n",
    "    # Get contract deployers\n",
    "    transactions = transactions[transactions['to_address'].isnull()]\n",
    "    contract_deployers = contract_deployers + transactions['from_address'].unique().tolist()\n",
    "    \n",
    "    # Delete tempfile and increment block range\n",
    "    os.remove(\"transactions.csv\")\n",
    "    start_block = start_block + 100000\n",
    "    end_block = end_block + 100000\n",
    "\n",
    "# Remove duplicates across chunks\n",
    "unique_contract_deployers = [*set(contract_deployers)]\n",
    "\n",
    "# Export to CSV\n",
    "unique_contract_deployers_output = pd.DataFrame(unique_contract_deployers, columns=[\"contract_deployers\"])\n",
    "unique_contract_deployers_output.to_csv('sepolia_unique_contract_deployers_2021.csv', index=False)\n",
    "\n",
    "print(\"Unique Contract Deployers (2021): \"+str(len(unique_contract_deployers)))"
   ]
  },
  {
   "cell_type": "code",
   "execution_count": null,
   "id": "substantial-gather",
   "metadata": {},
   "outputs": [],
   "source": [
    "#2022 contract deployers\n",
    "start_block = last_block_2021+1\n",
    "end_block = start_block + 99999\n",
    "\n",
    "contract_deployers = []\n",
    "\n",
    "while (end_block <= last_block_2022+100000): # Buffer based on chunk size\n",
    "    end_block_used = min(end_block,last_block_2022) # Through Nov 15, 2022\n",
    "    print(\"Fetching blocks \"+str(start_block)+ \" to \"+str(end_block_used)+\".\")\n",
    "    ! ethereumetl export_blocks_and_transactions --start-block $start_block --end-block $end_block_used \\\n",
    "    --provider-uri $provider_uri \\\n",
    "    --transactions-output transactions.csv\n",
    "\n",
    "    transactions = pd.read_csv('transactions.csv')\n",
    "      \n",
    "    # Get contract deployers\n",
    "    transactions = transactions[transactions['to_address'].isnull()]\n",
    "    contract_deployers = contract_deployers + transactions['from_address'].unique().tolist()\n",
    "    \n",
    "    # Delete tempfile and increment block range\n",
    "    os.remove(\"transactions.csv\")\n",
    "    start_block = start_block + 100000\n",
    "    end_block = end_block + 100000\n",
    "\n",
    "# Remove duplicates across chunks\n",
    "unique_contract_deployers = [*set(contract_deployers)]\n",
    "\n",
    "# Export to CSV\n",
    "unique_contract_deployers_output = pd.DataFrame(unique_contract_deployers, columns=[\"contract_deployers\"])\n",
    "unique_contract_deployers_output.to_csv('sepolia_unique_contract_deployers_2022.csv', index=False)\n",
    "\n",
    "print(\"Unique Contract Deployers (2022): \"+str(len(unique_contract_deployers)))"
   ]
  },
  {
   "cell_type": "code",
   "execution_count": null,
   "id": "driven-pleasure",
   "metadata": {},
   "outputs": [],
   "source": [
    "##### ANALYSIS"
   ]
  },
  {
   "cell_type": "code",
   "execution_count": null,
   "id": "greatest-pavilion",
   "metadata": {},
   "outputs": [],
   "source": [
    "contract_deployers_2021 = pd.read_csv('sepolia_unique_contract_deployers_2021.csv')\n",
    "contract_deployers_2022 = pd.read_csv('sepolia_unique_contract_deployers_2022.csv')\n",
    "\n",
    "# Generate CSV for full time range\n",
    "contract_deployers_all = contract_deployers_2021.append(contract_deployers_2022)\n",
    "unique_contract_deployers_all = contract_deployers_all['contract_deployers'].unique()\n",
    "unique_contract_deployers_all_df = pd.DataFrame(unique_contract_deployers_all, columns=['contract_deployers'])\n",
    "unique_contract_deployers_all_df.to_csv('sepolia_unique_contract_deployers_all.csv', index=False)\n",
    "\n",
    "# Calculate Scores: 1 point for each calendar year in which an address deployed a contract\n",
    "sepolia_scores = contract_deployers_all.assign(Count=1).groupby('contract_deployers')['Count'].count().reset_index()\n",
    "\n",
    "# Show score distribution\n",
    "sepolia_scores_summary = sepolia_scores.groupby('Count').count()\n",
    "display(sepolia_scores_summary)"
   ]
  },
  {
   "cell_type": "code",
   "execution_count": null,
   "id": "gothic-start",
   "metadata": {},
   "outputs": [],
   "source": [
    "# Chart of unique contract deployers over time\n",
    "year = [\"2021\",\"2022\"]\n",
    "deployers = [len(contract_deployers_2021.index),len(contract_deployers_2022.index)]\n",
    "\n",
    "df = pd.DataFrame({'contract deployers': deployers}, index=year)\n",
    "\n",
    "axes = df.plot.bar(rot=0, subplots=True)"
   ]
  }
 ],
 "metadata": {
  "kernelspec": {
   "display_name": "Python 3",
   "language": "python",
   "name": "python3"
  },
  "language_info": {
   "codemirror_mode": {
    "name": "ipython",
    "version": 3
   },
   "file_extension": ".py",
   "mimetype": "text/x-python",
   "name": "python",
   "nbconvert_exporter": "python",
   "pygments_lexer": "ipython3",
   "version": "3.9.13"
  }
 },
 "nbformat": 4,
 "nbformat_minor": 5
}
